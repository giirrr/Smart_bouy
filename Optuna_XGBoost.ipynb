{
  "nbformat": 4,
  "nbformat_minor": 0,
  "metadata": {
    "colab": {
      "provenance": [],
      "authorship_tag": "ABX9TyP/Sf2SXDfuroY1IZ4TiQ3f",
      "include_colab_link": true
    },
    "kernelspec": {
      "name": "python3",
      "display_name": "Python 3"
    },
    "language_info": {
      "name": "python"
    }
  },
  "cells": [
    {
      "cell_type": "markdown",
      "metadata": {
        "id": "view-in-github",
        "colab_type": "text"
      },
      "source": [
        "<a href=\"https://colab.research.google.com/github/giirrr/first_ryun_project/blob/main/Optuna_XGBoost.ipynb\" target=\"_parent\"><img src=\"https://colab.research.google.com/assets/colab-badge.svg\" alt=\"Open In Colab\"/></a>"
      ]
    },
    {
      "cell_type": "code",
      "execution_count": null,
      "metadata": {
        "id": "QBH7jDqm1n8f"
      },
      "outputs": [],
      "source": [
        "import xgboost\n",
        "import matplotlib.pyplot as plt\n",
        "import numpy as np\n",
        "import pandas as pd\n",
        "import matplotlib as mlp\n",
        "import warnings\n",
        "import sklearn\n",
        "import optuna\n",
        "import os\n",
        "warnings.filterwarnings('ignore')\n",
        "\n",
        "\n",
        "from sklearn.model_selection import GridSearchCV\n",
        "from sklearn.model_selection import train_test_split\n",
        "from sklearn.metrics import mean_absolute_error, mean_squared_error, mean_squared_log_error\n",
        "\n",
        "\"\"\"data 불러오기\"\"\"\n",
        "X_train = np.loadtxt('./train_data/X_train.csv', delimiter=',')\n",
        "X_test = np.loadtxt('./train_data/X_test.csv', delimiter=',')\n",
        "\n",
        "y_train = np.loadtxt('./train_data/y_train.csv', delimiter=',')\n",
        "y_val = np.loadtxt('./train_data/y_test.csv', delimiter=',')\n",
        "\"\"\"data 불러오기\"\"\"\n",
        "\n",
        "xgb_model = xgboost.XGBRegressor()\n",
        "\"\"\"최적의 학습모델 찾기\"\"\"\n",
        "num_train = 3\n",
        "for j in range(num_train): # 학습을 여러번반복해도 동일한 결과가 나왔다.\n",
        "    xgb_model = xgboost.XGBRegressor( n_estimators=600, learning_rate=0.1, gamma=0, subsample=0.5, colsample_bytree=0.3,\n",
        "                                     max_depth=5) # 학습 모델 생성\n",
        "    xgb_model.fit(X_train, y_train)\n",
        "    xgb_model.save_model(\"./learn_data/{0}epoch.json\".format(j))\n",
        "\n",
        "\n",
        "\n",
        "from optuna.samplers import TPESampler\n",
        "\n",
        "sampler = TPESampler(seed=10)\n",
        "\n",
        "\n",
        "def objective(trial):\n",
        "    dtrain = xgboost.DMatrix(X_train, label=y_train)\n",
        "    dtest = xgboost.DMatrix(X_test, label=y_val)\n",
        "\n",
        "    param = {\n",
        "        'objective': 'reg:squarederror',\n",
        "        #'verbose': -1,\n",
        "        #'metric': 'rmse',\n",
        "\n",
        "        'max_depth': trial.suggest_int('max_depth', 3, 15),\n",
        "        'n_estimators': trial.suggest_int('n_estimators', 100, 5000),\n",
        "        \"colsample_bytree\": trial.suggest_loguniform(\"colsample_bytree\", 0.2, 0.6),\n",
        "        'subsample': trial.suggest_loguniform('subsample', 0.4, 1),\n",
        "\n",
        "    }\n",
        "\n",
        "    model = xgboost.XGBRegressor(**param)\n",
        "    xgb_model = model.fit(X_train, y_train, eval_set=[(X_test, y_val)], verbose=0, early_stopping_rounds=25)\n",
        "    rmse = mean_squared_error(y_val, xgb_model.predict(X_test))\n",
        "    return rmse\n",
        "\n",
        "\n",
        "study_xgb = optuna.create_study(direction='minimize', sampler=sampler)\n",
        "study_xgb.optimize(objective, n_trials=100)\n",
        "\n",
        "trial = study_xgb.best_trial\n",
        "trial_params = trial.params\n",
        "print('Best Trial: score {},\\nparams {}'.format(trial.value, trial_params))\n",
        "\n",
        "#Best Trial: score 6.230401680950585e-06,\n",
        "#params {'max_depth': 10, 'n_estimators': 1133, 'colsample_bytree': 0.26366023216199885, 'subsample': 0.9404820937429552}\n",
        "optuna.visualization.plot_optimization_history(study_xgb).show()\n",
        "optuna.visualization.plot_parallel_coordinate(study_xgb).show()\n",
        "optuna.visualization.plot_contour(study_xgb).show()"
      ]
    }
  ]
}